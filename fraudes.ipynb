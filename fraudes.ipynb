{
 "cells": [
  {
   "cell_type": "markdown",
   "source": [
    "Você trabalha em um banco como cientista de dados e recebeu o seguinte conjunto de dados para analisar:\n"
   ],
   "metadata": {
    "collapsed": false
   },
   "id": "57af633032aa38d3"
  },
  {
   "cell_type": "code",
   "outputs": [],
   "source": [
    "import pandas as pd\n",
    "\n",
    "# criando um DataFrame com 30 transações aleatórias\n",
    "df = pd.DataFrame({\n",
    "    'ID da transação': range(1, 31),\n",
    "    'Valor da transação': [100, 200, 150, 500, 300, 913, 250, 400, 200, 150, \n",
    "                           200, 200, 400, 300, 150, 301, 805, 300, 400, 250, \n",
    "                           150, 100, 500, 600, 200, 350, 100, 250, 800, 250],\n",
    "    'Data da transação': pd.date_range(start='2022-01-01', end='2022-01-30', freq='D'),\n",
    "    'Local da transação': ['São Paulo, Brasil', 'Rio de Janeiro, Brasil', 'Belo Horizonte, Brasil', 'São Paulo, Brasil', \n",
    "                           'São Paulo, Brasil', 'Nova Iorque, EUA', 'São Paulo, Brasil', 'São Paulo, Brasil', 'São Paulo, Brasil',\n",
    "                           'Rio de Janeiro, Brasil', 'São Paulo, Brasil', 'São Paulo, Brasil', 'São Paulo, Brasil', 'São Paulo, Brasil',\n",
    "                           'São Paulo, Brasil', 'São Paulo, Brasil', 'Los Angeles, EUA', 'São Paulo, Brasil', 'São Paulo, Brasil', 'São Paulo, Brasil',\n",
    "                           'São Paulo, Brasil', 'São Paulo, Brasil', 'São Paulo, Brasil', 'São Paulo, Brasil', 'São Paulo, Brasil', 'São Paulo, Brasil',\n",
    "                           'São Paulo, Brasil', 'São Paulo, Brasil', 'Miami, EUA', 'São Paulo, Brasil']\n",
    "})"
   ],
   "metadata": {
    "collapsed": false,
    "ExecuteTime": {
     "end_time": "2023-12-27T23:17:13.816804800Z",
     "start_time": "2023-12-27T23:17:13.792263800Z"
    }
   },
   "id": "f2db56009ab44daf",
   "execution_count": 4
  },
  {
   "cell_type": "markdown",
   "source": [
    "Foi informado que nessa base de dados há possíveis fraudes que podem ser identificadas através dos outliers no “valor da transação”. Basicamente a fraude seria um outlier.\n",
    "\n",
    "Sua missão é construir uma função que recebe dois parâmetros, a coluna que você quer analisar se tem outlier e o DataFrame em questão. A intenção de fazer isso é aproveitar novamente essa função tanto para outras colunas quanto para outros DataFrames futuramente em outras análises. O método que deve ser implementado para identificação do outlier é do intervalo interquartil.\n",
    "\n",
    "Como podemos fazer isso?\n",
    "\n"
   ],
   "metadata": {
    "collapsed": false
   },
   "id": "1c7dad1ae0e22a2a"
  },
  {
   "cell_type": "code",
   "outputs": [],
   "source": [
    "def calc_outliers(column, dataframe): \n",
    "\n",
    "  # calculando o IQR e definindo o limite para outliers\n",
    "  Q1 = dataframe[column].quantile(0.25)\n",
    "  Q3 = dataframe[column].quantile(0.75)\n",
    "  IQR = Q3 - Q1\n",
    "  limite_inferior = Q1 - 1.5 * IQR\n",
    "  limite_superior = Q3 + 1.5 * IQR\n",
    "\n",
    "  # identificando os outliers\n",
    "  outliers = dataframe[(dataframe[column] < limite_inferior) | (dataframe[column] > limite_superior)]\n",
    "\n",
    "  # retornando os outliers\n",
    "  return outliers"
   ],
   "metadata": {
    "collapsed": false,
    "ExecuteTime": {
     "end_time": "2023-12-27T23:17:13.832860700Z",
     "start_time": "2023-12-27T23:17:13.822797600Z"
    }
   },
   "id": "f1f6d4b79209fbbf",
   "execution_count": 5
  },
  {
   "cell_type": "markdown",
   "source": [
    "Esse código em Python define uma função chamada calc_outliers que recebe dois parâmetros: column e dataframe. A função tem como objetivo identificar e retornar os outliers (valores extremos) de uma coluna específica em um DataFrame.\n",
    "\n",
    "O primeiro passo da função é calcular o IQR (Interquartile Range) da coluna, que é a diferença entre o terceiro (Q3) e o primeiro quartil (Q1). Em seguida, é definido um limite inferior e um limite superior para identificar os outliers. Esses limites são calculados subtraindo e somando, respectivamente, 1.5 vezes o IQR ao Q1 e ao Q3. A imagem abaixo exemplifica isso:\n",
    "\n",
    "![img](img/img.png)\n",
    "\n",
    "Após definir os limites, a função identifica os outliers na coluna do DataFrame utilizando a condição de que os valores sejam menores que o limite inferior ou maiores que o limite superior. Por fim, a função retorna um novo DataFrame contendo apenas os outliers identificados.\n",
    "\n",
    "Vamos então obter as amostras que são outliers na coluna “Valor da transação” no conjunto de dados fornecido:\n",
    "\n"
   ],
   "metadata": {
    "collapsed": false
   },
   "id": "4069f6e3b8ab71d1"
  },
  {
   "cell_type": "code",
   "outputs": [
    {
     "name": "stdout",
     "output_type": "stream",
     "text": [
      "    ID da transação  Valor da transação Data da transação Local da transação\n",
      "5                 6                 913        2022-01-06   Nova Iorque, EUA\n",
      "16               17                 805        2022-01-17   Los Angeles, EUA\n",
      "28               29                 800        2022-01-29         Miami, EUA\n"
     ]
    }
   ],
   "source": [
    "print(calc_outliers('Valor da transação', df))"
   ],
   "metadata": {
    "collapsed": false,
    "ExecuteTime": {
     "end_time": "2023-12-27T23:17:13.879653900Z",
     "start_time": "2023-12-27T23:17:13.841864500Z"
    }
   },
   "id": "b3edc9ea77270317",
   "execution_count": 6
  },
  {
   "cell_type": "markdown",
   "source": [],
   "metadata": {
    "collapsed": false
   },
   "id": "402f403a20d67fcb"
  },
  {
   "cell_type": "markdown",
   "source": [
    "Logo, essas são as 3 transações fraudulentas presentes nos dados fornecidos.\n",
    "\n"
   ],
   "metadata": {
    "collapsed": false
   },
   "id": "28fcde619f48b232"
  }
 ],
 "metadata": {
  "kernelspec": {
   "display_name": "Python 3",
   "language": "python",
   "name": "python3"
  },
  "language_info": {
   "codemirror_mode": {
    "name": "ipython",
    "version": 2
   },
   "file_extension": ".py",
   "mimetype": "text/x-python",
   "name": "python",
   "nbconvert_exporter": "python",
   "pygments_lexer": "ipython2",
   "version": "2.7.6"
  }
 },
 "nbformat": 4,
 "nbformat_minor": 5
}
